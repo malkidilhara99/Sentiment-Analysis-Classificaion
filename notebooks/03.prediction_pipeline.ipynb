{
 "cells": [
  {
   "cell_type": "code",
   "execution_count": 33,
   "id": "6d4b4def-bd8d-4c07-ab51-9d520338239b",
   "metadata": {},
   "outputs": [],
   "source": [
    "import numpy as np\n",
    "import pandas as pd\n",
    "import re\n",
    "import string\n",
    "import pickle\n"
   ]
  },
  {
   "cell_type": "code",
   "execution_count": 34,
   "id": "8104abad-5fe8-4ea7-be3a-c18bdd3e8b3e",
   "metadata": {},
   "outputs": [],
   "source": [
    "from nltk.stem import PorterStemmer\n",
    "ps = PorterStemmer()"
   ]
  },
  {
   "cell_type": "code",
   "execution_count": 35,
   "id": "986b8837-ddf1-45fa-8216-c23ce856e7c7",
   "metadata": {},
   "outputs": [],
   "source": [
    "with open('../static/model/model.pickle','rb')as f:\n",
    "     model=pickle.load(f)"
   ]
  },
  {
   "cell_type": "code",
   "execution_count": 36,
   "id": "97da8d62-7dfd-4c24-88e7-1edec50c8d61",
   "metadata": {},
   "outputs": [],
   "source": [
    "def remove_punctuations(text):\n",
    "    for punctuation in string.punctuation:\n",
    "        text=text.replace(punctuation ,'')\n",
    "    return text   "
   ]
  },
  {
   "cell_type": "code",
   "execution_count": 37,
   "id": "163d96ff-1c4a-4faa-a1da-276c29296b56",
   "metadata": {},
   "outputs": [],
   "source": [
    "with open('../static/model/corpora/stopwords/english','r')as file:\n",
    "    sw=file.read().splitlines()"
   ]
  },
  {
   "cell_type": "code",
   "execution_count": 38,
   "id": "bf5e607e-d57e-4c0a-8b65-ef3c61bb6375",
   "metadata": {},
   "outputs": [],
   "source": [
    "vocab=pd.read_csv('../static/model/vocabulary.txt',header=None)\n",
    "tokens=vocab[0].tolist()"
   ]
  },
  {
   "cell_type": "code",
   "execution_count": 39,
   "id": "30d42f3c-b38c-4f69-ae42-0f7d7d8e75f5",
   "metadata": {},
   "outputs": [],
   "source": [
    "def preprocessing(text):\n",
    "    data=pd.DataFrame([text],columns=['tweet'])\n",
    "    data[\"tweet\"]=data[\"tweet\"].apply(lambda x:\" \".join(x.lower() for x in x.split()))\n",
    "    data[\"tweet\"]= data['tweet'].apply(lambda x: \" \".join(re.sub(r'^https?:\\/\\/.*[\\r\\n]*','',x,flags=re.MULTILINE) for x in x.split()))   \n",
    "    data[\"tweet\"]=data[\"tweet\"].apply(remove_punctuations)\n",
    "    data[\"tweet\"] = data['tweet'].str.replace(r'\\d+', '', regex=True)\n",
    "    data[\"tweet\"]=data[\"tweet\"].apply(lambda x:\" \".join(x for x in x.split() if x not in sw))\n",
    "    data[\"tweet\"]=data[\"tweet\"].apply(lambda x:\" \".join(ps.stem(x) for x in x.split()))\n",
    "    return data['tweet']\n",
    "\n",
    "\n",
    "\n",
    "\n"
   ]
  },
  {
   "cell_type": "code",
   "execution_count": 40,
   "id": "f8d52b4c-0d00-4fcc-a0e4-2593dcaff2a6",
   "metadata": {},
   "outputs": [],
   "source": [
    "\n",
    "def vectorizer(ds,vocabulary):\n",
    "    vectorized_lst = []\n",
    "    for sentence in ds:\n",
    "        sentence_lst = np.zeros(len(vocabulary))\n",
    "        for i in range(len(vocabulary)):\n",
    "            if vocabulary[i] in sentence.split():\n",
    "                sentence_lst[i] = 1  \n",
    "        vectorized_lst.append(sentence_lst)\n",
    "    vectorized_lst_new = np.asarray(vectorized_lst, dtype=np.float32)\n",
    "    return vectorized_lst_new"
   ]
  },
  {
   "cell_type": "code",
   "execution_count": 41,
   "id": "c1aa4b3d-1249-49f8-b372-84ae5e083393",
   "metadata": {},
   "outputs": [],
   "source": [
    "def get_prediction(vectorized_text):\n",
    "    prediction=model.predict(vectorized_text)\n",
    "    if prediction==1:\n",
    "        return 'negative'\n",
    "    else:\n",
    "        return 'positive'\n"
   ]
  },
  {
   "cell_type": "code",
   "execution_count": 42,
   "id": "3edc6af7-14c6-4e12-aa7a-425e473a8d3b",
   "metadata": {},
   "outputs": [
    {
     "data": {
      "text/plain": [
       "'positive'"
      ]
     },
     "execution_count": 42,
     "metadata": {},
     "output_type": "execute_result"
    }
   ],
   "source": [
    "txt=\"good one.I love it.\"\n",
    "preprocessed_txt=preprocessing(txt)\n",
    "vectorized_txt=vectorizer(preprocessed_txt,tokens)\n",
    "prediction=get_prediction(vectorized_txt)\n",
    "prediction"
   ]
  },
  {
   "cell_type": "code",
   "execution_count": null,
   "id": "200534b9-1e70-4602-8bce-8fc0a476f5e4",
   "metadata": {},
   "outputs": [],
   "source": []
  }
 ],
 "metadata": {
  "kernelspec": {
   "display_name": "Python 3 (ipykernel)",
   "language": "python",
   "name": "python3"
  },
  "language_info": {
   "codemirror_mode": {
    "name": "ipython",
    "version": 3
   },
   "file_extension": ".py",
   "mimetype": "text/x-python",
   "name": "python",
   "nbconvert_exporter": "python",
   "pygments_lexer": "ipython3",
   "version": "3.12.0"
  }
 },
 "nbformat": 4,
 "nbformat_minor": 5
}
